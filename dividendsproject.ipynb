{
 "cells": [
  {
   "cell_type": "code",
   "execution_count": 44,
   "metadata": {},
   "outputs": [],
   "source": [
    "#import pandas, zipfile and kaggle\n",
    "import pandas as pd\n",
    "import zipfile\n",
    "import kaggle"
   ]
  },
  {
   "cell_type": "code",
   "execution_count": 45,
   "metadata": {},
   "outputs": [
    {
     "name": "stdout",
     "output_type": "stream",
     "text": [
      "Dataset URL: https://www.kaggle.com/datasets/nelgiriyewithana/world-stock-prices-daily-updating\n",
      "License(s): other\n",
      "world-stock-prices-daily-updating.zip: Skipping, found more recently modified local copy (use --force to force download)\n"
     ]
    }
   ],
   "source": [
    "#download dataset from kaggle using the Kaggle API\n",
    "!kaggle datasets download -d nelgiriyewithana/world-stock-prices-daily-updating"
   ]
  },
  {
   "cell_type": "code",
   "execution_count": 46,
   "metadata": {},
   "outputs": [],
   "source": [
    "#extract the file from the downloaded zip file\n",
    "zipfile_name = 'world-stock-prices-daily-updating.zip'\n",
    "with zipfile.ZipFile(zipfile_name,'r') as file:\n",
    "    file.extractall()"
   ]
  },
  {
   "cell_type": "code",
   "execution_count": 47,
   "metadata": {},
   "outputs": [],
   "source": [
    "#read in the csv file as a pandas dataframe\n",
    "stocks = pd.read_csv(\"World-Stock-Prices-Dataset.csv\")"
   ]
  },
  {
   "cell_type": "code",
   "execution_count": 48,
   "metadata": {},
   "outputs": [
    {
     "name": "stdout",
     "output_type": "stream",
     "text": [
      "<class 'pandas.core.frame.DataFrame'>\n",
      "RangeIndex: 279753 entries, 0 to 279752\n",
      "Data columns (total 12 columns):\n",
      " #   Column        Non-Null Count   Dtype  \n",
      "---  ------        --------------   -----  \n",
      " 0   Date          279753 non-null  object \n",
      " 1   Open          279753 non-null  float64\n",
      " 2   High          279753 non-null  float64\n",
      " 3   Low           279753 non-null  float64\n",
      " 4   Close         279753 non-null  float64\n",
      " 5   Volume        279753 non-null  float64\n",
      " 6   Dividends     279753 non-null  float64\n",
      " 7   Stock Splits  279753 non-null  float64\n",
      " 8   Brand_Name    279753 non-null  object \n",
      " 9   Ticker        279753 non-null  object \n",
      " 10  Industry_Tag  279753 non-null  object \n",
      " 11  Country       279753 non-null  object \n",
      "dtypes: float64(7), object(5)\n",
      "memory usage: 25.6+ MB\n"
     ]
    }
   ],
   "source": [
    "#explore the data\n",
    "stocks.info()"
   ]
  },
  {
   "cell_type": "code",
   "execution_count": 49,
   "metadata": {},
   "outputs": [
    {
     "data": {
      "text/plain": [
       "(279753, 12)"
      ]
     },
     "execution_count": 49,
     "metadata": {},
     "output_type": "execute_result"
    }
   ],
   "source": [
    "stocks.shape"
   ]
  },
  {
   "cell_type": "code",
   "execution_count": 50,
   "metadata": {},
   "outputs": [
    {
     "data": {
      "text/plain": [
       "Dividends\n",
       "0.000    277264\n",
       "0.180        55\n",
       "0.160        52\n",
       "0.100        49\n",
       "0.150        47\n",
       "          ...  \n",
       "0.636         1\n",
       "0.632         1\n",
       "0.668         1\n",
       "0.395         1\n",
       "0.964         1\n",
       "Name: count, Length: 443, dtype: int64"
      ]
     },
     "execution_count": 50,
     "metadata": {},
     "output_type": "execute_result"
    }
   ],
   "source": [
    "#count the unique values in the Dividends column\n",
    "stocks.Dividends.value_counts()"
   ]
  },
  {
   "cell_type": "code",
   "execution_count": 51,
   "metadata": {},
   "outputs": [
    {
     "data": {
      "text/plain": [
       "0"
      ]
     },
     "execution_count": 51,
     "metadata": {},
     "output_type": "execute_result"
    }
   ],
   "source": [
    "stocks.Date.isnull().sum()"
   ]
  },
  {
   "cell_type": "code",
   "execution_count": 52,
   "metadata": {},
   "outputs": [
    {
     "data": {
      "text/plain": [
       "Ticker\n",
       "FL      5969\n",
       "MSFT    5969\n",
       "ADBE    5969\n",
       "JPM     5969\n",
       "MAR     5969\n",
       "        ... \n",
       "PTON    1005\n",
       "ZI       832\n",
       "ABNB     700\n",
       "RBLX     640\n",
       "COIN     616\n",
       "Name: count, Length: 61, dtype: int64"
      ]
     },
     "execution_count": 52,
     "metadata": {},
     "output_type": "execute_result"
    }
   ],
   "source": [
    "#count the unique values in the Ticker column\n",
    "stocks.Ticker.value_counts()"
   ]
  },
  {
   "cell_type": "code",
   "execution_count": 53,
   "metadata": {},
   "outputs": [],
   "source": [
    "# Convert the 'Date' column to datetime format, assume it's UTC if timezone information is not provided.\n",
    "stocks['Date'] = pd.to_datetime(stocks['Date'], utc=True)\n",
    "\n",
    "# Get today's date in UTC to match the timezone of 'Date'\n",
    "today = pd.to_datetime('today', utc=True)\n",
    "\n",
    "# Calculate the date 10 years ago from today\n",
    "ten_years_ago = today - pd.DateOffset(years=10)\n",
    "\n",
    "# Filter the data for the last 10 years\n",
    "data_last_10_years = stocks[stocks['Date'] >= ten_years_ago]"
   ]
  },
  {
   "cell_type": "code",
   "execution_count": 54,
   "metadata": {},
   "outputs": [
    {
     "data": {
      "text/plain": [
       "<bound method IndexOpsMixin.value_counts of 0        2023-09-20 04:00:00+00:00\n",
       "1        2023-09-20 04:00:00+00:00\n",
       "2        2023-09-20 04:00:00+00:00\n",
       "3        2023-09-20 04:00:00+00:00\n",
       "4        2023-09-20 04:00:00+00:00\n",
       "                    ...           \n",
       "279748   2023-08-29 04:00:00+00:00\n",
       "279749   2023-08-30 04:00:00+00:00\n",
       "279750   2023-08-31 04:00:00+00:00\n",
       "279751   2023-09-01 04:00:00+00:00\n",
       "279752   2023-09-05 04:00:00+00:00\n",
       "Name: Date, Length: 279753, dtype: datetime64[ns, UTC]>"
      ]
     },
     "execution_count": 54,
     "metadata": {},
     "output_type": "execute_result"
    }
   ],
   "source": [
    "stocks.Date.value_counts"
   ]
  },
  {
   "cell_type": "code",
   "execution_count": 55,
   "metadata": {},
   "outputs": [],
   "source": [
    "#specifying the colomn names that I want to use\n",
    "new_cols_dict = {\n",
    "    'Date':'date',\t\n",
    "    'Open':'open_price',\n",
    "    'High':'high_price',\n",
    "    'Low':'low_price',\n",
    "    'Close':'close_price',\n",
    "    'Volume':'volume',\n",
    "    'Dividends':'dividends',\n",
    "    'Stock Splits':'stock_splits',\n",
    "    'Brand_Name':'brand_name',\n",
    "    'Ticker':'ticker',\n",
    "    'Industry_Tag':'industry_tag',\n",
    "    'Country':'country'\n",
    "}\n",
    "#renaming the columns to the specified column names\n",
    "stocks.rename(new_cols_dict, axis=1, inplace=True)"
   ]
  },
  {
   "cell_type": "code",
   "execution_count": 56,
   "metadata": {},
   "outputs": [],
   "source": [
    "#creating an industry dictionary\n",
    "industry_tag_dict = {\n",
    "    'fitness':'fitness',\n",
    "    'entertainment':'entertainment',\n",
    "    'retail':'retail',\n",
    "    'e-commerce':'e-commerce',\n",
    "    'technology':'technology',\n",
    "    'apparel':'apparel',\n",
    "    'music':'music',\n",
    "    'gaming':'gaming',\n",
    "    'aviation':'aviation',\n",
    "    'automotive':'automotive',\n",
    "    'food & beverage':'food_and_beverage',\n",
    "    'consumer goods':'consumer_goods',\n",
    "    'footwear':'footwear',\n",
    "    'hospitality':'hospitality',\n",
    "    'healthcare':'healthcare',\n",
    "    'cryptocurrency':'cryptocurrency',\n",
    "    'logistics':'logistics',\n",
    "    'manufacturing':'manufacturing',\n",
    "    'food':'food',\n",
    "    'social media':'social_media',\n",
    "    'financial services':'financial_services',\n",
    "    'luxury goods':'luxury_goods',\n",
    "    'finance':'finance'\n",
    "}\n",
    "#changing the industry colomn to string\n",
    "stocks.industry_tag = stocks.industry_tag.astype('str')\n",
    "#mapping the values to the actual written industry\n",
    "stocks.industry_tag = stocks.industry_tag.map(industry_tag_dict)"
   ]
  },
  {
   "cell_type": "code",
   "execution_count": 57,
   "metadata": {},
   "outputs": [],
   "source": [
    "#creating an industry dictionary\n",
    "country_dict = {\n",
    "    'canada':'canada',\n",
    "    'france':'france',\n",
    "    'germany':'germany',\n",
    "    'japan':'japan',\n",
    "    'netherlands':'netherlands',\n",
    "    'switzerland':'switzerland',\n",
    "    'usa':'usa'\n",
    "}\n",
    "#changing the country colomn to string\n",
    "stocks.country = stocks.country.astype('str')\n",
    "#mapping the values to the actual written country\n",
    "stocks.country = stocks.country.map(country_dict)"
   ]
  },
  {
   "cell_type": "code",
   "execution_count": 58,
   "metadata": {},
   "outputs": [
    {
     "data": {
      "text/html": [
       "<div>\n",
       "<style scoped>\n",
       "    .dataframe tbody tr th:only-of-type {\n",
       "        vertical-align: middle;\n",
       "    }\n",
       "\n",
       "    .dataframe tbody tr th {\n",
       "        vertical-align: top;\n",
       "    }\n",
       "\n",
       "    .dataframe thead th {\n",
       "        text-align: right;\n",
       "    }\n",
       "</style>\n",
       "<table border=\"1\" class=\"dataframe\">\n",
       "  <thead>\n",
       "    <tr style=\"text-align: right;\">\n",
       "      <th></th>\n",
       "      <th>date</th>\n",
       "      <th>open_price</th>\n",
       "      <th>high_price</th>\n",
       "      <th>low_price</th>\n",
       "      <th>close_price</th>\n",
       "      <th>volume</th>\n",
       "      <th>dividends</th>\n",
       "      <th>stock_splits</th>\n",
       "      <th>brand_name</th>\n",
       "      <th>ticker</th>\n",
       "      <th>industry_tag</th>\n",
       "      <th>country</th>\n",
       "    </tr>\n",
       "  </thead>\n",
       "  <tbody>\n",
       "    <tr>\n",
       "      <th>0</th>\n",
       "      <td>2023-09-20 04:00:00+00:00</td>\n",
       "      <td>4.840000</td>\n",
       "      <td>4.910000</td>\n",
       "      <td>4.630000</td>\n",
       "      <td>4.670000</td>\n",
       "      <td>7441900.0</td>\n",
       "      <td>0.0</td>\n",
       "      <td>0.0</td>\n",
       "      <td>peloton</td>\n",
       "      <td>PTON</td>\n",
       "      <td>fitness</td>\n",
       "      <td>usa</td>\n",
       "    </tr>\n",
       "    <tr>\n",
       "      <th>1</th>\n",
       "      <td>2023-09-20 04:00:00+00:00</td>\n",
       "      <td>397.049988</td>\n",
       "      <td>397.989990</td>\n",
       "      <td>386.119995</td>\n",
       "      <td>386.299988</td>\n",
       "      <td>3866600.0</td>\n",
       "      <td>0.0</td>\n",
       "      <td>0.0</td>\n",
       "      <td>netflix</td>\n",
       "      <td>NFLX</td>\n",
       "      <td>entertainment</td>\n",
       "      <td>usa</td>\n",
       "    </tr>\n",
       "    <tr>\n",
       "      <th>2</th>\n",
       "      <td>2023-09-20 04:00:00+00:00</td>\n",
       "      <td>564.349976</td>\n",
       "      <td>569.219971</td>\n",
       "      <td>562.659973</td>\n",
       "      <td>563.830017</td>\n",
       "      <td>1311500.0</td>\n",
       "      <td>0.0</td>\n",
       "      <td>0.0</td>\n",
       "      <td>costco</td>\n",
       "      <td>COST</td>\n",
       "      <td>retail</td>\n",
       "      <td>usa</td>\n",
       "    </tr>\n",
       "    <tr>\n",
       "      <th>3</th>\n",
       "      <td>2023-09-20 04:00:00+00:00</td>\n",
       "      <td>138.550003</td>\n",
       "      <td>139.369995</td>\n",
       "      <td>135.199997</td>\n",
       "      <td>135.289993</td>\n",
       "      <td>46263700.0</td>\n",
       "      <td>0.0</td>\n",
       "      <td>0.0</td>\n",
       "      <td>amazon</td>\n",
       "      <td>AMZN</td>\n",
       "      <td>e-commerce</td>\n",
       "      <td>usa</td>\n",
       "    </tr>\n",
       "    <tr>\n",
       "      <th>4</th>\n",
       "      <td>2023-09-20 04:00:00+00:00</td>\n",
       "      <td>179.259995</td>\n",
       "      <td>179.699997</td>\n",
       "      <td>175.399994</td>\n",
       "      <td>175.490005</td>\n",
       "      <td>58436200.0</td>\n",
       "      <td>0.0</td>\n",
       "      <td>0.0</td>\n",
       "      <td>apple</td>\n",
       "      <td>AAPL</td>\n",
       "      <td>technology</td>\n",
       "      <td>usa</td>\n",
       "    </tr>\n",
       "  </tbody>\n",
       "</table>\n",
       "</div>"
      ],
      "text/plain": [
       "                       date  open_price  high_price   low_price  close_price  \\\n",
       "0 2023-09-20 04:00:00+00:00    4.840000    4.910000    4.630000     4.670000   \n",
       "1 2023-09-20 04:00:00+00:00  397.049988  397.989990  386.119995   386.299988   \n",
       "2 2023-09-20 04:00:00+00:00  564.349976  569.219971  562.659973   563.830017   \n",
       "3 2023-09-20 04:00:00+00:00  138.550003  139.369995  135.199997   135.289993   \n",
       "4 2023-09-20 04:00:00+00:00  179.259995  179.699997  175.399994   175.490005   \n",
       "\n",
       "       volume  dividends  stock_splits brand_name ticker   industry_tag  \\\n",
       "0   7441900.0        0.0           0.0    peloton   PTON        fitness   \n",
       "1   3866600.0        0.0           0.0    netflix   NFLX  entertainment   \n",
       "2   1311500.0        0.0           0.0     costco   COST         retail   \n",
       "3  46263700.0        0.0           0.0     amazon   AMZN     e-commerce   \n",
       "4  58436200.0        0.0           0.0      apple   AAPL     technology   \n",
       "\n",
       "  country  \n",
       "0     usa  \n",
       "1     usa  \n",
       "2     usa  \n",
       "3     usa  \n",
       "4     usa  "
      ]
     },
     "execution_count": 58,
     "metadata": {},
     "output_type": "execute_result"
    }
   ],
   "source": [
    "#checking our dataframe to see if mappind have worked\n",
    "stocks.head()"
   ]
  },
  {
   "cell_type": "code",
   "execution_count": 59,
   "metadata": {},
   "outputs": [
    {
     "data": {
      "text/html": [
       "<div>\n",
       "<style scoped>\n",
       "    .dataframe tbody tr th:only-of-type {\n",
       "        vertical-align: middle;\n",
       "    }\n",
       "\n",
       "    .dataframe tbody tr th {\n",
       "        vertical-align: top;\n",
       "    }\n",
       "\n",
       "    .dataframe thead th {\n",
       "        text-align: right;\n",
       "    }\n",
       "</style>\n",
       "<table border=\"1\" class=\"dataframe\">\n",
       "  <thead>\n",
       "    <tr style=\"text-align: right;\">\n",
       "      <th></th>\n",
       "      <th>date</th>\n",
       "      <th>open_price</th>\n",
       "      <th>high_price</th>\n",
       "      <th>low_price</th>\n",
       "      <th>close_price</th>\n",
       "      <th>volume</th>\n",
       "      <th>dividends</th>\n",
       "      <th>stock_splits</th>\n",
       "      <th>brand_name</th>\n",
       "      <th>ticker</th>\n",
       "      <th>industry_tag</th>\n",
       "      <th>country</th>\n",
       "    </tr>\n",
       "  </thead>\n",
       "  <tbody>\n",
       "    <tr>\n",
       "      <th>336</th>\n",
       "      <td>2023-09-14 04:00:00+00:00</td>\n",
       "      <td>58.240002</td>\n",
       "      <td>58.590000</td>\n",
       "      <td>58.189999</td>\n",
       "      <td>58.459999</td>\n",
       "      <td>12311600.0</td>\n",
       "      <td>0.46</td>\n",
       "      <td>0.0</td>\n",
       "      <td>the coca-cola company</td>\n",
       "      <td>KO</td>\n",
       "      <td>food_and_beverage</td>\n",
       "      <td>usa</td>\n",
       "    </tr>\n",
       "    <tr>\n",
       "      <th>642</th>\n",
       "      <td>2023-09-08 04:00:00+00:00</td>\n",
       "      <td>254.490005</td>\n",
       "      <td>255.210007</td>\n",
       "      <td>251.789993</td>\n",
       "      <td>253.309998</td>\n",
       "      <td>1179700.0</td>\n",
       "      <td>1.26</td>\n",
       "      <td>0.0</td>\n",
       "      <td>fedex</td>\n",
       "      <td>FDX</td>\n",
       "      <td>logistics</td>\n",
       "      <td>usa</td>\n",
       "    </tr>\n",
       "    <tr>\n",
       "      <th>727</th>\n",
       "      <td>2023-09-06 04:00:00+00:00</td>\n",
       "      <td>484.410004</td>\n",
       "      <td>485.489990</td>\n",
       "      <td>465.799988</td>\n",
       "      <td>470.609985</td>\n",
       "      <td>46867000.0</td>\n",
       "      <td>0.04</td>\n",
       "      <td>0.0</td>\n",
       "      <td>nvidia</td>\n",
       "      <td>NVDA</td>\n",
       "      <td>technology</td>\n",
       "      <td>usa</td>\n",
       "    </tr>\n",
       "    <tr>\n",
       "      <th>8209</th>\n",
       "      <td>2004-05-06 04:00:00+00:00</td>\n",
       "      <td>25.676923</td>\n",
       "      <td>25.746319</td>\n",
       "      <td>25.087049</td>\n",
       "      <td>25.191143</td>\n",
       "      <td>5389400.0</td>\n",
       "      <td>0.10</td>\n",
       "      <td>0.0</td>\n",
       "      <td>costco</td>\n",
       "      <td>COST</td>\n",
       "      <td>retail</td>\n",
       "      <td>usa</td>\n",
       "    </tr>\n",
       "    <tr>\n",
       "      <th>8260</th>\n",
       "      <td>2004-07-21 04:00:00+00:00</td>\n",
       "      <td>28.501445</td>\n",
       "      <td>29.078847</td>\n",
       "      <td>28.452749</td>\n",
       "      <td>28.626665</td>\n",
       "      <td>2950000.0</td>\n",
       "      <td>0.10</td>\n",
       "      <td>0.0</td>\n",
       "      <td>costco</td>\n",
       "      <td>COST</td>\n",
       "      <td>retail</td>\n",
       "      <td>usa</td>\n",
       "    </tr>\n",
       "  </tbody>\n",
       "</table>\n",
       "</div>"
      ],
      "text/plain": [
       "                          date  open_price  high_price   low_price  \\\n",
       "336  2023-09-14 04:00:00+00:00   58.240002   58.590000   58.189999   \n",
       "642  2023-09-08 04:00:00+00:00  254.490005  255.210007  251.789993   \n",
       "727  2023-09-06 04:00:00+00:00  484.410004  485.489990  465.799988   \n",
       "8209 2004-05-06 04:00:00+00:00   25.676923   25.746319   25.087049   \n",
       "8260 2004-07-21 04:00:00+00:00   28.501445   29.078847   28.452749   \n",
       "\n",
       "      close_price      volume  dividends  stock_splits             brand_name  \\\n",
       "336     58.459999  12311600.0       0.46           0.0  the coca-cola company   \n",
       "642    253.309998   1179700.0       1.26           0.0                  fedex   \n",
       "727    470.609985  46867000.0       0.04           0.0                 nvidia   \n",
       "8209    25.191143   5389400.0       0.10           0.0                 costco   \n",
       "8260    28.626665   2950000.0       0.10           0.0                 costco   \n",
       "\n",
       "     ticker       industry_tag country  \n",
       "336      KO  food_and_beverage     usa  \n",
       "642     FDX          logistics     usa  \n",
       "727    NVDA         technology     usa  \n",
       "8209   COST             retail     usa  \n",
       "8260   COST             retail     usa  "
      ]
     },
     "execution_count": 59,
     "metadata": {},
     "output_type": "execute_result"
    }
   ],
   "source": [
    "# Filter the dataset to include only rows where Dividends > 0\n",
    "filtered_data = stocks[stocks['dividends'] > 0]\n",
    "\n",
    "# Display the filtered data\n",
    "filtered_data.head()"
   ]
  },
  {
   "cell_type": "code",
   "execution_count": 60,
   "metadata": {},
   "outputs": [
    {
     "data": {
      "text/plain": [
       "(2489, 12)"
      ]
     },
     "execution_count": 60,
     "metadata": {},
     "output_type": "execute_result"
    }
   ],
   "source": [
    "filtered_data.shape"
   ]
  },
  {
   "cell_type": "code",
   "execution_count": 61,
   "metadata": {},
   "outputs": [
    {
     "data": {
      "text/plain": [
       "date            0\n",
       "open_price      0\n",
       "high_price      0\n",
       "low_price       0\n",
       "close_price     0\n",
       "volume          0\n",
       "dividends       0\n",
       "stock_splits    0\n",
       "brand_name      0\n",
       "ticker          0\n",
       "industry_tag    0\n",
       "country         0\n",
       "dtype: int64"
      ]
     },
     "execution_count": 61,
     "metadata": {},
     "output_type": "execute_result"
    }
   ],
   "source": [
    "# Check for and handle missing values\n",
    "filtered_data.isnull().sum()  # Shows count of NaN in each column\n",
    "#filtered_data = filtered_data.dropna()  # Drops all rows with any NaN values"
   ]
  },
  {
   "cell_type": "code",
   "execution_count": 62,
   "metadata": {},
   "outputs": [],
   "source": [
    "# Saving the cleaned data\n",
    "filtered_data.to_csv('cleaned_data.csv', index=False)"
   ]
  }
 ],
 "metadata": {
  "kernelspec": {
   "display_name": "Python 3",
   "language": "python",
   "name": "python3"
  },
  "language_info": {
   "codemirror_mode": {
    "name": "ipython",
    "version": 3
   },
   "file_extension": ".py",
   "mimetype": "text/x-python",
   "name": "python",
   "nbconvert_exporter": "python",
   "pygments_lexer": "ipython3",
   "version": "3.12.2"
  }
 },
 "nbformat": 4,
 "nbformat_minor": 2
}
